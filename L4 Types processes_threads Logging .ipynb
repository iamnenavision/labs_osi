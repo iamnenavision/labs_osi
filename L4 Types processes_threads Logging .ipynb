{
 "cells": [
  {
   "cell_type": "markdown",
   "metadata": {},
   "source": [
    "### N нитей M процессов, N:M  = 3:5\n",
    "<img src=\"image/3_03.png\" alt=\"Drawing\" style=\"width: 250px;\"/>\n"
   ]
  },
  {
   "cell_type": "code",
   "execution_count": 38,
   "metadata": {},
   "outputs": [
    {
     "name": "stdout",
     "output_type": "stream",
     "text": [
      "Main process done.\n"
     ]
    }
   ],
   "source": [
    "from random import random\n",
    "from time import sleep\n",
    "from threading import current_thread\n",
    "from multiprocessing import current_process\n",
    "from threading import Thread\n",
    "from multiprocessing import Process\n",
    "\n",
    "# задача, выполняемая новыми threads\n",
    "def thread_task():\n",
    "    # block for a moment\n",
    "    sleep(8 * random() )\n",
    "    # report a message\n",
    "    process_name = current_process().name\n",
    "    thread_name = current_thread().name\n",
    "    print(f'>thread {thread_name} in process {process_name} done.', flush=True)\n",
    "\n",
    "# 3 нити выполняемые 1 процессом\n",
    "def process_task():\n",
    "    # configure new threads\n",
    "    threads = [Thread(target=thread_task) for _ in range(3)]\n",
    "    # start new threads\n",
    "    for thread in threads:\n",
    "        thread.start()\n",
    "    # wait for threads to finish\n",
    "    for thread in threads:\n",
    "        thread.join()\n",
    "    # report message\n",
    "    process_name = current_process().name\n",
    "    print(f'Process {process_name} done.', flush=True)\n",
    "    \n",
    "# Затем основной процесс сообщает, что он завершен.    \n",
    "\n",
    "# 5 процессов\n",
    "# protect the entry point\n",
    "if __name__ == '__main__':\n",
    "    # configure child processes\n",
    "    processes = [Process(target=process_task) for _ in range(5)]\n",
    "    # start new processes\n",
    "    for child in processes:\n",
    "        child.start()\n",
    "    # wait for processes to finish\n",
    "    for child in processes:\n",
    "        child.join()\n",
    "    # report message\n",
    "    print('Main process done.', flush=True)    "
   ]
  },
  {
   "cell_type": "markdown",
   "metadata": {},
   "source": [
    "1. запускаем пять дочерних процессов.\n",
    "2.  Главный (__main__) процесс блокируется пока  не закончатся все дочерние процессы.\n",
    "3. Каждый дочерний процесс затем настраивает и запускает три рабочих нити. Дочерние процессы затем блокируются до завершения их рабочих нитей.\n",
    "4. Каждая рабочая нить блокируется  случайным интервал в три секунды, затем выводит сообщение.\n",
    "5. Когда нити процесса завершаются, и дочерний процесс продолжается и выдает сообщение.\n",
    "6. Процессы полностью завершаются, а главный процесс продолжается и выдает окончательное сообщение.\n"
   ]
  },
  {
   "cell_type": "markdown",
   "metadata": {},
   "source": [
    "## Нити и Процессы - демоны (фоновые)  \n",
    "\n",
    "#### Идея фоновой нити и процесса  аналог \"демонов\" или духа (из древнегреческого), который выолняет задачи на заднем плане. Можно также называть нити и процессы демоны  демоническими.\n",
    "#### Нить демон и процесс демон выполняются в фоновом режиме.\n",
    "\n",
    "#### Нить демон и  процесс демон полезны для выполнения задач в фоновом режиме для поддержки нитей и процессов, не являющихся демонами."
   ]
  },
  {
   "cell_type": "markdown",
   "metadata": {},
   "source": [
    "## Нити демоны "
   ]
  },
  {
   "cell_type": "code",
   "execution_count": 23,
   "metadata": {},
   "outputs": [],
   "source": [
    "# 1 create a new daemon thread\n",
    "thread = Thread(daemon=True)"
   ]
  },
  {
   "cell_type": "markdown",
   "metadata": {},
   "source": [
    "Свойство \"демон\" может быть задано только в новом потоке, если новый поток не запущен. То есть, перед вызовом метода start()"
   ]
  },
  {
   "cell_type": "code",
   "execution_count": 25,
   "metadata": {},
   "outputs": [],
   "source": [
    "# 2 create a new daemon thread\n",
    "thread = Thread()\n",
    "# configure the thread to be a daemon thread\n",
    "thread.daemon = True"
   ]
  },
  {
   "cell_type": "markdown",
   "metadata": {},
   "source": [
    "Экземпляр новой нити наследует значение свойства \"демон\"  от нити родителя."
   ]
  },
  {
   "cell_type": "code",
   "execution_count": 39,
   "metadata": {},
   "outputs": [
    {
     "name": "stdout",
     "output_type": "stream",
     "text": [
      "Daemon thread: False\n"
     ]
    }
   ],
   "source": [
    "# example of checking if the current thread is a daemon thread\n",
    "from threading import current_thread\n",
    "# get the current thread\n",
    "thread = current_thread()\n",
    "# report if daemon thread\n",
    "print(f'Daemon thread: {thread.daemon}')"
   ]
  },
  {
   "cell_type": "code",
   "execution_count": 40,
   "metadata": {},
   "outputs": [
    {
     "name": "stdout",
     "output_type": "stream",
     "text": [
      "Daemon thread: False\n"
     ]
    }
   ],
   "source": [
    "# example of checking if a new thread is a daemon thread\n",
    "from threading import current_thread\n",
    "from threading import Thread\n",
    " \n",
    "# function to be executed in a new thread\n",
    "def task():\n",
    "    # get the current thread\n",
    "    thread = current_thread()\n",
    "    # report if daemon thread\n",
    "    print(f'Daemon thread: {thread.daemon}')\n",
    " \n",
    "# create a new thread with a default value for \"daemon\"\n",
    "thread = Thread(target=task)\n",
    "# start the new thread\n",
    "thread.start()"
   ]
  },
  {
   "cell_type": "markdown",
   "metadata": {},
   "source": [
    "Выполнение примера сначала создается  новая нить со значением по умолчанию свойства \"демон\". Оно унаследуется от родительской нити, которая в этом случае является главной, а не демонической."
   ]
  },
  {
   "cell_type": "code",
   "execution_count": 41,
   "metadata": {},
   "outputs": [
    {
     "name": "stdout",
     "output_type": "stream",
     "text": [
      "Daemon thread 1: True\n",
      "Daemon thread 2: True\n"
     ]
    }
   ],
   "source": [
    "# example of creating a daemon thread from a daemon thread\n",
    "from time import sleep\n",
    "from threading import current_thread\n",
    "from threading import Thread\n",
    " \n",
    "# function to be executed by second daemon thread\n",
    "def task2():\n",
    "    # get the current thread\n",
    "    thread = current_thread()\n",
    "    # report if daemon thread\n",
    "    print(f'Daemon thread 2: {thread.daemon}')\n",
    " \n",
    "# function to be executed in a new thread\n",
    "def task():\n",
    "    # get the current thread\n",
    "    thread = current_thread()\n",
    "    # report if daemon thread\n",
    "    print(f'Daemon thread 1: {thread.daemon}')\n",
    "    # create a new thread\n",
    "    new_thread = Thread(target=task2)\n",
    "    # start the new thread\n",
    "    new_thread.start()\n",
    " \n",
    "# create a new daemon thread\n",
    "thread = Thread(target=task, daemon=True)\n",
    "# start the new thread\n",
    "thread.start()\n",
    "# block for a moment to let the daemon threads run\n",
    "sleep(0.5)"
   ]
  },
  {
   "cell_type": "markdown",
   "metadata": {},
   "source": [
    "# Процессы демоны\n",
    "##  Процесс демон является расширением нити  демон для  процесса.\n",
    "\n",
    "#### Процесс демона можно создать в Python с помощью аргумента \"демон\" конструктора  multiprocessing.Process или через свойство \"демон\" экземпляра multiprocessing.Process.Процессы"
   ]
  },
  {
   "cell_type": "code",
   "execution_count": 42,
   "metadata": {},
   "outputs": [],
   "source": [
    "# create a new daemon process\n",
    "process = Process(daemon=True)"
   ]
  },
  {
   "cell_type": "code",
   "execution_count": 43,
   "metadata": {},
   "outputs": [],
   "source": [
    "# create a new daemon process\n",
    "process = Process()\n",
    "# configure the process to be a daemon process\n",
    "process.daemon = True"
   ]
  },
  {
   "cell_type": "code",
   "execution_count": 44,
   "metadata": {},
   "outputs": [
    {
     "name": "stdout",
     "output_type": "stream",
     "text": [
      "Daemon process: False\n"
     ]
    }
   ],
   "source": [
    "# example of checking if the current process is a daemon\n",
    "from multiprocessing import current_process\n",
    "# get the current process\n",
    "process = current_process()\n",
    "# report if daemon process\n",
    "print(f'Daemon process: {process.daemon}')"
   ]
  },
  {
   "cell_type": "code",
   "execution_count": 45,
   "metadata": {},
   "outputs": [],
   "source": [
    "# example of checking if a new process is a daemon process\n",
    "from multiprocessing import current_process\n",
    "from multiprocessing import Process\n",
    " \n",
    "# function to be executed in a new process\n",
    "def task():\n",
    "    # get the current process\n",
    "    process = current_process()\n",
    "    # report if daemon process\n",
    "    print(f'Daemon process: {process.daemon}')\n",
    " \n",
    "# entry point\n",
    "if __name__ == '__main__':\n",
    "    # create a new process with a default value for \"daemon\"\n",
    "    process = Process(target=task)\n",
    "    # start the new process\n",
    "    process.start()"
   ]
  },
  {
   "cell_type": "markdown",
   "metadata": {},
   "source": [
    "### В примере сначала создается  новый процесс со значением по умолчанию свойства \"демон\". Оно наследуется от родительского процесса"
   ]
  },
  {
   "cell_type": "markdown",
   "metadata": {},
   "source": [
    "#  Ведение журнала событий (log или логирование)\n",
    "#### мы можем вести журнальный файл, вызвав функцию logging.basicConfig() и указывая имя файла и путь к журналу (например, application.log), уровень регистрации в файл (например, от журнала.DEBUG до журнала.CRITICAL).\n"
   ]
  },
  {
   "cell_type": "markdown",
   "metadata": {},
   "source": [
    "#### События регистрируются с помощью вызовов функций в зависимости от типа выполняемых событий, например для отладки сообщений logging.debug()."
   ]
  },
  {
   "cell_type": "code",
   "execution_count": 46,
   "metadata": {},
   "outputs": [],
   "source": [
    "# log everything to file\n",
    "import logging\n",
    "logging.basicConfig(filename='application.log', level=logging.DEBUG)"
   ]
  },
  {
   "cell_type": "markdown",
   "metadata": {},
   "source": [
    "#### мы можем добавлять информационные сообщения в код приложения, вызывая журнал.info() и передавая в строке подробности события."
   ]
  },
  {
   "cell_type": "code",
   "execution_count": 48,
   "metadata": {},
   "outputs": [],
   "source": [
    "# log данные были загружены успешно\n",
    "logging.info(\" data were bbeen logged sucsesfully\")"
   ]
  },
  {
   "cell_type": "markdown",
   "metadata": {},
   "source": [
    "#### Log oшибки, такие как исключения, которые важны, но не критичны для программы через logging.error() или logging.exception()"
   ]
  },
  {
   "cell_type": "code",
   "execution_count": 51,
   "metadata": {},
   "outputs": [],
   "source": [
    "# try a thing\n",
    "try:\n",
    "  # ...  \n",
    "  pass \n",
    "except Exception as err:\n",
    "\tlogging.exception(f'Unable to perform task because: {err.message} ')"
   ]
  },
  {
   "cell_type": "markdown",
   "metadata": {},
   "source": [
    "# Log для нескольких процессов "
   ]
  },
  {
   "cell_type": "markdown",
   "metadata": {},
   "source": [
    "####  1. Используйте модуль регистрации отдельно в каждом процессе"
   ]
  },
  {
   "cell_type": "code",
   "execution_count": 52,
   "metadata": {},
   "outputs": [],
   "source": [
    "# create a logger\n",
    "logger = logging.getLogger()\n",
    "# log all messages, debug and up\n",
    "logger.setLevel(logging.DEBUG)\n",
    "# Сообщения могут регистрироваться напрямую.\n",
    "# report a message\n",
    "logging.info('Hello world.')"
   ]
  },
  {
   "cell_type": "markdown",
   "metadata": {},
   "source": [
    "####  2. Использование пользователем процесса безопасной регистрации"
   ]
  },
  {
   "cell_type": "code",
   "execution_count": 53,
   "metadata": {},
   "outputs": [],
   "source": [
    "# example of logging from multiple processes \n",
    "from random import random\n",
    "from time import sleep\n",
    "from multiprocessing import current_process\n",
    "from multiprocessing import Process\n",
    "import logging\n",
    " \n",
    "# task to be executed in child processes\n",
    "def task():\n",
    "    # create a logger\n",
    "    logger = logging.getLogger()\n",
    "    # log all messages, debug and up\n",
    "    logger.setLevel(logging.DEBUG)\n",
    "    # get the current process\n",
    "    process = current_process()\n",
    "    # report initial message\n",
    "    logging.info(f'Child {process.name} starting.')\n",
    "    # simulate doing work\n",
    "    for i in range(5):\n",
    "        # report a message\n",
    "        logging.debug(f'Child {process.name} step {i}.')\n",
    "        # block\n",
    "        # sleep(random())\n",
    "    # report final message\n",
    "    logging.info(f'Child {process.name} done.')\n",
    " \n",
    "# protect the entry point\n",
    "if __name__ == '__main__':\n",
    "    # create a logger\n",
    "    logger = logging.getLogger()\n",
    "    # log all messages, debug and up\n",
    "    logger.setLevel(logging.DEBUG)\n",
    "    # report initial message\n",
    "    logging.info('Main process started.')\n",
    "    # configure child processes\n",
    "    processes = [Process(target=task) for i in range(5)]\n",
    "    # start child processes\n",
    "    for process in processes:\n",
    "        process.start()\n",
    "    # wait for child processes to finish\n",
    "    for process in processes:\n",
    "        process.join()\n",
    "    # report final message\n",
    "    logging.info('Main process done.')"
   ]
  },
  {
   "cell_type": "markdown",
   "metadata": {},
   "source": [
    "1. Главный (main) процесс блокирован  до завершения дочерних процессов.\n",
    "2. Каждый дочерний процесс настраивает свой собственный журнал (Log), используя обработчик потока по умолчанию, который отправляет сообщения в stderr, и устанавливает уровень журнала для отладки (debug).\n",
    "3. Дочерние процессы затем выполняют свои  задачи и логируют  сообщения (посылают в журнал).\n",
    "4. Дочерние процессы заканчиваются, затем главный процесс продолжается и сообщает окончательное сообщение. \n",
    "\n",
    "Это указывает на то, что модуль журнала может использоваться непосредственно из нескольких процессов, хотя он требует, чтобы каждый процесс настраивал инфраструктуру ведения журнала отдельно.\n",
    "\n",
    "Опасность этого подхода заключается в том, что конечный объект, в котором хранятся лог-сообщения, не может надежно обрабатывать сообщения от нескольких процессов параллельно, в этом случае сообщения могут перезаписывать друг друга и быть потеряны или повреждены. Это особенно верно, если все регистраторы настроены на запись в один файл."
   ]
  },
  {
   "cell_type": "markdown",
   "metadata": {},
   "source": [
    "### в предыдущем примере,  ведение журнала не является  процесс-безопасным  и сообщения журнала могут быть потеряны или повреждены, если они записаны в тот же целевой поток или обработчик.\n",
    "\n",
    "### Изменим способ получения  журнала, чтобы настроить его. Вместо вызова logger.getLogger(), вызовем multiprocessing.get_logger() Добавим StreamHandler, чтобы сообщения записывались в журнал stderr."
   ]
  },
  {
   "cell_type": "code",
   "execution_count": 21,
   "metadata": {},
   "outputs": [
    {
     "name": "stderr",
     "output_type": "stream",
     "text": [
      "Main process started.\n",
      "Main process done.\n"
     ]
    }
   ],
   "source": [
    "# example of logging from multiple processes with multiprocessing logging\n",
    "from random import random\n",
    "from time import sleep\n",
    "from multiprocessing import current_process\n",
    "from multiprocessing import Process\n",
    "from multiprocessing import get_logger\n",
    "import logging\n",
    " \n",
    "# task to be executed in child processes\n",
    "def task():\n",
    "    # get the multiprocessing logger\n",
    "    logger = get_logger()\n",
    "    # configure a stream handler\n",
    "    logger.addHandler(logging.StreamHandler())\n",
    "    # log all messages, debug and up\n",
    "    logger.setLevel(logging.DEBUG)\n",
    "    # get the current process\n",
    "    process = current_process()\n",
    "    # report initial message\n",
    "    logger.info(f'Child {process.name} starting.')\n",
    "    # simulate doing work\n",
    "    for i in range(5):\n",
    "        # report a message\n",
    "        logger.info(f'Child {process.name} step {i}.')\n",
    "        # block\n",
    "        sleep(random())\n",
    "    # report final message\n",
    "    logger.info(f'Child {process.name} done.')\n",
    " \n",
    "# protect the entry point\n",
    "if __name__ == '__main__':\n",
    "    # get the multiprocessing logger\n",
    "    logger = get_logger()\n",
    "    # configure a stream handler\n",
    "    logger.addHandler(logging.StreamHandler())\n",
    "    # log all messages, debug and up\n",
    "    logger.setLevel(logging.DEBUG)\n",
    "    # report initial message\n",
    "    logger.info(f'Main process started.')\n",
    "    # configure child processes\n",
    "    processes = [Process(target=task) for i in range(5)]\n",
    "    # start child processes\n",
    "    for process in processes:\n",
    "        process.start()\n",
    "    # wait for child processes to finish\n",
    "    for process in processes:\n",
    "        process.join()\n",
    "    # report final message\n",
    "    logger.info(f'Main process done.')"
   ]
  },
  {
   "cell_type": "markdown",
   "metadata": {},
   "source": [
    "#### Опасность такого подхода, такая же, что и у предыдущего\n",
    "\n",
    "###  Используйте QueHandler и процесс регистрации (Logging)\n",
    "#### Это может быть достигнуто путем настройки инфраструктуры ведения журнала в каждом процессе для использования logging.handlers.QueHandler, который будет отправлять сообщения журнала в разделяемую многопроцессорную  oчередь multiprocessing.Queue. Новый  процесс затем будет потреблять сообщения из очереди один-во-время и хранить их, в этом случае на stderr с помощью logging.StreamHandlerала.StreamHandler, но это может быть так же и файл.\n"
   ]
  },
  {
   "cell_type": "code",
   "execution_count": null,
   "metadata": {},
   "outputs": [],
   "source": [
    "# example of logging from multiple processes in a process-safe manner\n",
    "from random import random\n",
    "from time import sleep\n",
    "from multiprocessing import current_process\n",
    "from multiprocessing import Process\n",
    "from multiprocessing import Queue\n",
    "from logging.handlers import QueueHandler\n",
    "import logging\n",
    " \n",
    "# executed in a process that performs logging\n",
    "def logger_process(queue):\n",
    "    # create a logger\n",
    "    logger = logging.getLogger('app')\n",
    "    # configure a stream handler\n",
    "    logger.addHandler(logging.StreamHandler())\n",
    "    # log all messages, debug and up\n",
    "    logger.setLevel(logging.DEBUG)\n",
    "    # run forever\n",
    "    while True:\n",
    "        # consume a log message, block until one arrives\n",
    "        message = queue.get()\n",
    "        # check for shutdown\n",
    "        if message is None:\n",
    "            break\n",
    "        # log the message\n",
    "        logger.handle(message)\n",
    " \n",
    "# task to be executed in child processes\n",
    "def task(queue):\n",
    "    # create a logger\n",
    "    logger = logging.getLogger('app')\n",
    "    # add a handler that uses the shared queue\n",
    "    logger.addHandler(QueueHandler(queue))\n",
    "    # log all messages, debug and up\n",
    "    logger.setLevel(logging.DEBUG)\n",
    "    # get the current process\n",
    "    process = current_process()\n",
    "    # report initial message\n",
    "    logger.info(f'Child {process.name} starting.')\n",
    "    logger.debug(f'Child {process.pid}.')\n",
    "    # doing work\n",
    "    \n",
    "        \n",
    "    # report final message\n",
    "    logger.info(f'Child {process.name} done.')\n",
    " \n",
    "# protect the entry point\n",
    "if __name__ == '__main__':\n",
    "    # create the shared queue\n",
    "    queue = Queue()\n",
    "    logger = logging.getLogger('app')\n",
    "    # add a handler that uses the shared queue\n",
    "    logger.addHandler(QueueHandler(queue))\n",
    "    # log all messages, debug and up\n",
    "    logger.setLevel(logging.DEBUG)\n",
    "    # start the logger process\n",
    "    logger_p = Process(target=logger_process, args=(queue,))\n",
    "    logger_p.start()\n",
    "    # report initial message\n",
    "    logger.info('Main process started.')\n",
    "    # configure child processes\n",
    "    processes = [Process(target=task, args=(queue,)) for i in range(5)]\n",
    "    # start child processes\n",
    "    for process in processes:\n",
    "        process.start()\n",
    "    # wait for child processes to finish\n",
    "    for process in processes:\n",
    "        process.join()\n",
    "    # report final message\n",
    "    logger.info('Main process done.')\n",
    "    # shutdown the queue correctly\n",
    "    queue.put(None)"
   ]
  }
 ],
 "metadata": {
  "kernelspec": {
   "display_name": "Python 3.10.8 64-bit",
   "language": "python",
   "name": "python3"
  },
  "language_info": {
   "codemirror_mode": {
    "name": "ipython",
    "version": 3
   },
   "file_extension": ".py",
   "mimetype": "text/x-python",
   "name": "python",
   "nbconvert_exporter": "python",
   "pygments_lexer": "ipython3",
   "version": "3.10.8"
  },
  "orig_nbformat": 4,
  "vscode": {
   "interpreter": {
    "hash": "767d51c1340bd893661ea55ea3124f6de3c7a262a8b4abca0554b478b1e2ff90"
   }
  }
 },
 "nbformat": 4,
 "nbformat_minor": 2
}
